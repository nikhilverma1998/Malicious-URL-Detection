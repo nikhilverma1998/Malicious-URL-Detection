{
 "cells": [
  {
   "cell_type": "markdown",
   "metadata": {},
   "source": [
    "# import libraries"
   ]
  },
  {
   "cell_type": "code",
   "execution_count": 26,
   "metadata": {
    "execution": {
     "iopub.execute_input": "2023-03-30T16:57:19.761415Z",
     "iopub.status.busy": "2023-03-30T16:57:19.760962Z",
     "iopub.status.idle": "2023-03-30T16:57:19.767611Z",
     "shell.execute_reply": "2023-03-30T16:57:19.765960Z",
     "shell.execute_reply.started": "2023-03-30T16:57:19.761373Z"
    }
   },
   "outputs": [],
   "source": [
    "import torch\n",
    "from torch import nn as nn\n",
    "from torch.nn import functional as F\n",
    "import pandas as pd\n",
    "from tqdm import tqdm"
   ]
  },
  {
   "cell_type": "markdown",
   "metadata": {},
   "source": [
    "# Read data in CSV file"
   ]
  },
  {
   "cell_type": "code",
   "execution_count": 35,
   "metadata": {
    "execution": {
     "iopub.execute_input": "2023-03-30T17:00:33.768973Z",
     "iopub.status.busy": "2023-03-30T17:00:33.768255Z",
     "iopub.status.idle": "2023-03-30T17:00:37.066952Z",
     "shell.execute_reply": "2023-03-30T17:00:37.065952Z",
     "shell.execute_reply.started": "2023-03-30T17:00:33.768937Z"
    }
   },
   "outputs": [
    {
     "data": {
      "text/html": [
       "<div>\n",
       "<style scoped>\n",
       "    .dataframe tbody tr th:only-of-type {\n",
       "        vertical-align: middle;\n",
       "    }\n",
       "\n",
       "    .dataframe tbody tr th {\n",
       "        vertical-align: top;\n",
       "    }\n",
       "\n",
       "    .dataframe thead th {\n",
       "        text-align: right;\n",
       "    }\n",
       "</style>\n",
       "<table border=\"1\" class=\"dataframe\">\n",
       "  <thead>\n",
       "    <tr style=\"text-align: right;\">\n",
       "      <th></th>\n",
       "      <th>type</th>\n",
       "      <th>url</th>\n",
       "    </tr>\n",
       "  </thead>\n",
       "  <tbody>\n",
       "    <tr>\n",
       "      <th>0</th>\n",
       "      <td>1</td>\n",
       "      <td>https://www.ujhyjhujhyjhyuj.ga/CC_POSTALE/f2a83/</td>\n",
       "    </tr>\n",
       "    <tr>\n",
       "      <th>1</th>\n",
       "      <td>1</td>\n",
       "      <td>https://stitch-statichosting-prod.s3.amazonaws...</td>\n",
       "    </tr>\n",
       "    <tr>\n",
       "      <th>2</th>\n",
       "      <td>0</td>\n",
       "      <td>https://www.reservoirgroup.com/careers/</td>\n",
       "    </tr>\n",
       "    <tr>\n",
       "      <th>3</th>\n",
       "      <td>0</td>\n",
       "      <td>https://www.camosy.com/themes/juicy/images/doo...</td>\n",
       "    </tr>\n",
       "    <tr>\n",
       "      <th>4</th>\n",
       "      <td>0</td>\n",
       "      <td>https://www.liveapps.com.au/</td>\n",
       "    </tr>\n",
       "    <tr>\n",
       "      <th>...</th>\n",
       "      <td>...</td>\n",
       "      <td>...</td>\n",
       "    </tr>\n",
       "    <tr>\n",
       "      <th>54995</th>\n",
       "      <td>0</td>\n",
       "      <td>https://www.knaack.com/support/literature</td>\n",
       "    </tr>\n",
       "    <tr>\n",
       "      <th>54996</th>\n",
       "      <td>0</td>\n",
       "      <td>https://plus.google.com/107396682494324876800</td>\n",
       "    </tr>\n",
       "    <tr>\n",
       "      <th>54997</th>\n",
       "      <td>0</td>\n",
       "      <td>https://www.jaegers.com/daily-pricing</td>\n",
       "    </tr>\n",
       "    <tr>\n",
       "      <th>54998</th>\n",
       "      <td>0</td>\n",
       "      <td>https://www.benhet.be/batonrouge/voorwaarden.html</td>\n",
       "    </tr>\n",
       "    <tr>\n",
       "      <th>54999</th>\n",
       "      <td>0</td>\n",
       "      <td>https://www.teijincarbon.com/service-and-advice</td>\n",
       "    </tr>\n",
       "  </tbody>\n",
       "</table>\n",
       "<p>55000 rows × 2 columns</p>\n",
       "</div>"
      ],
      "text/plain": [
       "       type                                                url\n",
       "0         1   https://www.ujhyjhujhyjhyuj.ga/CC_POSTALE/f2a83/\n",
       "1         1  https://stitch-statichosting-prod.s3.amazonaws...\n",
       "2         0            https://www.reservoirgroup.com/careers/\n",
       "3         0  https://www.camosy.com/themes/juicy/images/doo...\n",
       "4         0                       https://www.liveapps.com.au/\n",
       "...     ...                                                ...\n",
       "54995     0          https://www.knaack.com/support/literature\n",
       "54996     0      https://plus.google.com/107396682494324876800\n",
       "54997     0              https://www.jaegers.com/daily-pricing\n",
       "54998     0  https://www.benhet.be/batonrouge/voorwaarden.html\n",
       "54999     0    https://www.teijincarbon.com/service-and-advice\n",
       "\n",
       "[55000 rows x 2 columns]"
      ]
     },
     "execution_count": 35,
     "metadata": {},
     "output_type": "execute_result"
    }
   ],
   "source": [
    "dataset = pd.read_excel('/kaggle/input/url-data/data_imbal - 55000.xlsx')\n",
    "dataset"
   ]
  },
  {
   "cell_type": "code",
   "execution_count": 36,
   "metadata": {
    "execution": {
     "iopub.execute_input": "2023-03-30T17:00:40.558508Z",
     "iopub.status.busy": "2023-03-30T17:00:40.558112Z",
     "iopub.status.idle": "2023-03-30T17:00:40.566900Z",
     "shell.execute_reply": "2023-03-30T17:00:40.565890Z",
     "shell.execute_reply.started": "2023-03-30T17:00:40.558475Z"
    }
   },
   "outputs": [],
   "source": [
    "dataset.type = dataset.type.map( {1:'phishing' ,0:'benign'} )"
   ]
  },
  {
   "cell_type": "code",
   "execution_count": 37,
   "metadata": {
    "execution": {
     "iopub.execute_input": "2023-03-30T17:00:42.821421Z",
     "iopub.status.busy": "2023-03-30T17:00:42.820452Z",
     "iopub.status.idle": "2023-03-30T17:00:42.835494Z",
     "shell.execute_reply": "2023-03-30T17:00:42.834368Z",
     "shell.execute_reply.started": "2023-03-30T17:00:42.821383Z"
    }
   },
   "outputs": [
    {
     "data": {
      "text/html": [
       "<div>\n",
       "<style scoped>\n",
       "    .dataframe tbody tr th:only-of-type {\n",
       "        vertical-align: middle;\n",
       "    }\n",
       "\n",
       "    .dataframe tbody tr th {\n",
       "        vertical-align: top;\n",
       "    }\n",
       "\n",
       "    .dataframe thead th {\n",
       "        text-align: right;\n",
       "    }\n",
       "</style>\n",
       "<table border=\"1\" class=\"dataframe\">\n",
       "  <thead>\n",
       "    <tr style=\"text-align: right;\">\n",
       "      <th></th>\n",
       "      <th>type</th>\n",
       "      <th>url</th>\n",
       "    </tr>\n",
       "  </thead>\n",
       "  <tbody>\n",
       "    <tr>\n",
       "      <th>0</th>\n",
       "      <td>phishing</td>\n",
       "      <td>https://www.ujhyjhujhyjhyuj.ga/CC_POSTALE/f2a83/</td>\n",
       "    </tr>\n",
       "    <tr>\n",
       "      <th>1</th>\n",
       "      <td>phishing</td>\n",
       "      <td>https://stitch-statichosting-prod.s3.amazonaws...</td>\n",
       "    </tr>\n",
       "    <tr>\n",
       "      <th>2</th>\n",
       "      <td>benign</td>\n",
       "      <td>https://www.reservoirgroup.com/careers/</td>\n",
       "    </tr>\n",
       "    <tr>\n",
       "      <th>3</th>\n",
       "      <td>benign</td>\n",
       "      <td>https://www.camosy.com/themes/juicy/images/doo...</td>\n",
       "    </tr>\n",
       "    <tr>\n",
       "      <th>4</th>\n",
       "      <td>benign</td>\n",
       "      <td>https://www.liveapps.com.au/</td>\n",
       "    </tr>\n",
       "    <tr>\n",
       "      <th>...</th>\n",
       "      <td>...</td>\n",
       "      <td>...</td>\n",
       "    </tr>\n",
       "    <tr>\n",
       "      <th>54995</th>\n",
       "      <td>benign</td>\n",
       "      <td>https://www.knaack.com/support/literature</td>\n",
       "    </tr>\n",
       "    <tr>\n",
       "      <th>54996</th>\n",
       "      <td>benign</td>\n",
       "      <td>https://plus.google.com/107396682494324876800</td>\n",
       "    </tr>\n",
       "    <tr>\n",
       "      <th>54997</th>\n",
       "      <td>benign</td>\n",
       "      <td>https://www.jaegers.com/daily-pricing</td>\n",
       "    </tr>\n",
       "    <tr>\n",
       "      <th>54998</th>\n",
       "      <td>benign</td>\n",
       "      <td>https://www.benhet.be/batonrouge/voorwaarden.html</td>\n",
       "    </tr>\n",
       "    <tr>\n",
       "      <th>54999</th>\n",
       "      <td>benign</td>\n",
       "      <td>https://www.teijincarbon.com/service-and-advice</td>\n",
       "    </tr>\n",
       "  </tbody>\n",
       "</table>\n",
       "<p>55000 rows × 2 columns</p>\n",
       "</div>"
      ],
      "text/plain": [
       "           type                                                url\n",
       "0      phishing   https://www.ujhyjhujhyjhyuj.ga/CC_POSTALE/f2a83/\n",
       "1      phishing  https://stitch-statichosting-prod.s3.amazonaws...\n",
       "2        benign            https://www.reservoirgroup.com/careers/\n",
       "3        benign  https://www.camosy.com/themes/juicy/images/doo...\n",
       "4        benign                       https://www.liveapps.com.au/\n",
       "...         ...                                                ...\n",
       "54995    benign          https://www.knaack.com/support/literature\n",
       "54996    benign      https://plus.google.com/107396682494324876800\n",
       "54997    benign              https://www.jaegers.com/daily-pricing\n",
       "54998    benign  https://www.benhet.be/batonrouge/voorwaarden.html\n",
       "54999    benign    https://www.teijincarbon.com/service-and-advice\n",
       "\n",
       "[55000 rows x 2 columns]"
      ]
     },
     "execution_count": 37,
     "metadata": {},
     "output_type": "execute_result"
    }
   ],
   "source": [
    "dataset"
   ]
  },
  {
   "cell_type": "code",
   "execution_count": 17,
   "metadata": {
    "execution": {
     "iopub.execute_input": "2023-03-30T16:47:01.867825Z",
     "iopub.status.busy": "2023-03-30T16:47:01.867413Z",
     "iopub.status.idle": "2023-03-30T16:47:02.647274Z",
     "shell.execute_reply": "2023-03-30T16:47:02.646139Z",
     "shell.execute_reply.started": "2023-03-30T16:47:01.867789Z"
    }
   },
   "outputs": [
    {
     "data": {
      "text/html": [
       "<div>\n",
       "<style scoped>\n",
       "    .dataframe tbody tr th:only-of-type {\n",
       "        vertical-align: middle;\n",
       "    }\n",
       "\n",
       "    .dataframe tbody tr th {\n",
       "        vertical-align: top;\n",
       "    }\n",
       "\n",
       "    .dataframe thead th {\n",
       "        text-align: right;\n",
       "    }\n",
       "</style>\n",
       "<table border=\"1\" class=\"dataframe\">\n",
       "  <thead>\n",
       "    <tr style=\"text-align: right;\">\n",
       "      <th></th>\n",
       "      <th>url</th>\n",
       "      <th>type</th>\n",
       "    </tr>\n",
       "  </thead>\n",
       "  <tbody>\n",
       "    <tr>\n",
       "      <th>0</th>\n",
       "      <td>br-icloud.com.br</td>\n",
       "      <td>phishing</td>\n",
       "    </tr>\n",
       "    <tr>\n",
       "      <th>1</th>\n",
       "      <td>mp3raid.com/music/krizz_kaliko.html</td>\n",
       "      <td>benign</td>\n",
       "    </tr>\n",
       "    <tr>\n",
       "      <th>2</th>\n",
       "      <td>bopsecrets.org/rexroth/cr/1.htm</td>\n",
       "      <td>benign</td>\n",
       "    </tr>\n",
       "    <tr>\n",
       "      <th>3</th>\n",
       "      <td>http://www.garage-pirenne.be/index.php?option=...</td>\n",
       "      <td>defacement</td>\n",
       "    </tr>\n",
       "    <tr>\n",
       "      <th>4</th>\n",
       "      <td>http://adventure-nicaragua.net/index.php?optio...</td>\n",
       "      <td>defacement</td>\n",
       "    </tr>\n",
       "    <tr>\n",
       "      <th>...</th>\n",
       "      <td>...</td>\n",
       "      <td>...</td>\n",
       "    </tr>\n",
       "    <tr>\n",
       "      <th>651186</th>\n",
       "      <td>xbox360.ign.com/objects/850/850402.html</td>\n",
       "      <td>phishing</td>\n",
       "    </tr>\n",
       "    <tr>\n",
       "      <th>651187</th>\n",
       "      <td>games.teamxbox.com/xbox-360/1860/Dead-Space/</td>\n",
       "      <td>phishing</td>\n",
       "    </tr>\n",
       "    <tr>\n",
       "      <th>651188</th>\n",
       "      <td>www.gamespot.com/xbox360/action/deadspace/</td>\n",
       "      <td>phishing</td>\n",
       "    </tr>\n",
       "    <tr>\n",
       "      <th>651189</th>\n",
       "      <td>en.wikipedia.org/wiki/Dead_Space_(video_game)</td>\n",
       "      <td>phishing</td>\n",
       "    </tr>\n",
       "    <tr>\n",
       "      <th>651190</th>\n",
       "      <td>www.angelfire.com/goth/devilmaycrytonite/</td>\n",
       "      <td>phishing</td>\n",
       "    </tr>\n",
       "  </tbody>\n",
       "</table>\n",
       "<p>651191 rows × 2 columns</p>\n",
       "</div>"
      ],
      "text/plain": [
       "                                                      url        type\n",
       "0                                        br-icloud.com.br    phishing\n",
       "1                     mp3raid.com/music/krizz_kaliko.html      benign\n",
       "2                         bopsecrets.org/rexroth/cr/1.htm      benign\n",
       "3       http://www.garage-pirenne.be/index.php?option=...  defacement\n",
       "4       http://adventure-nicaragua.net/index.php?optio...  defacement\n",
       "...                                                   ...         ...\n",
       "651186            xbox360.ign.com/objects/850/850402.html    phishing\n",
       "651187       games.teamxbox.com/xbox-360/1860/Dead-Space/    phishing\n",
       "651188         www.gamespot.com/xbox360/action/deadspace/    phishing\n",
       "651189      en.wikipedia.org/wiki/Dead_Space_(video_game)    phishing\n",
       "651190          www.angelfire.com/goth/devilmaycrytonite/    phishing\n",
       "\n",
       "[651191 rows x 2 columns]"
      ]
     },
     "execution_count": 17,
     "metadata": {},
     "output_type": "execute_result"
    }
   ],
   "source": [
    "dataset1 = pd.read_csv('/kaggle/input/malicious-urls-dataset/malicious_phish.csv')\n",
    "dataset1"
   ]
  },
  {
   "cell_type": "markdown",
   "metadata": {},
   "source": [
    "# class and functions to get label from index and index from label"
   ]
  },
  {
   "cell_type": "code",
   "execution_count": 38,
   "metadata": {
    "execution": {
     "iopub.execute_input": "2023-03-30T17:00:48.977286Z",
     "iopub.status.busy": "2023-03-30T17:00:48.976902Z",
     "iopub.status.idle": "2023-03-30T17:00:48.991009Z",
     "shell.execute_reply": "2023-03-30T17:00:48.989851Z",
     "shell.execute_reply.started": "2023-03-30T17:00:48.977237Z"
    }
   },
   "outputs": [
    {
     "data": {
      "text/plain": [
       "0"
      ]
     },
     "execution_count": 38,
     "metadata": {},
     "output_type": "execute_result"
    }
   ],
   "source": [
    "class Label_Index:\n",
    "    def __init__(self, dataset):\n",
    "        self.labels = dataset['type'].unique()\n",
    "        self.label_index = {label: index for index, label in enumerate(self.labels)}\n",
    "        self.index_label = {index: label for index, label in enumerate(self.labels)}\n",
    "    \n",
    "    def indexes_labels(self, dataset):\n",
    "        return dataset['type'].map(self.index_label)\n",
    "\n",
    "    def labels_indexes(self, dataset):\n",
    "        return dataset['type'].map(self.label_index)\n",
    "    def __call__(self, label):\n",
    "        return self.label_index[label]\n",
    "\n",
    "label_index = Label_Index(dataset)\n",
    "label_index('phishing')"
   ]
  },
  {
   "cell_type": "code",
   "execution_count": 39,
   "metadata": {
    "execution": {
     "iopub.execute_input": "2023-03-30T17:00:51.777930Z",
     "iopub.status.busy": "2023-03-30T17:00:51.777497Z",
     "iopub.status.idle": "2023-03-30T17:00:51.986965Z",
     "shell.execute_reply": "2023-03-30T17:00:51.985798Z",
     "shell.execute_reply.started": "2023-03-30T17:00:51.777892Z"
    }
   },
   "outputs": [
    {
     "data": {
      "text/plain": [
       "([0,\n",
       "  1,\n",
       "  1,\n",
       "  2,\n",
       "  3,\n",
       "  4,\n",
       "  5,\n",
       "  5,\n",
       "  6,\n",
       "  6,\n",
       "  6,\n",
       "  7,\n",
       "  8,\n",
       "  9,\n",
       "  0,\n",
       "  10,\n",
       "  9,\n",
       "  0,\n",
       "  8,\n",
       "  9,\n",
       "  0,\n",
       "  10,\n",
       "  9,\n",
       "  0,\n",
       "  10,\n",
       "  8,\n",
       "  9,\n",
       "  7,\n",
       "  11,\n",
       "  12,\n",
       "  5,\n",
       "  13,\n",
       "  13,\n",
       "  14,\n",
       "  15,\n",
       "  16,\n",
       "  17,\n",
       "  18,\n",
       "  19,\n",
       "  20,\n",
       "  21,\n",
       "  5,\n",
       "  22,\n",
       "  23,\n",
       "  12,\n",
       "  24,\n",
       "  25,\n",
       "  5],\n",
       " 446)"
      ]
     },
     "execution_count": 39,
     "metadata": {},
     "output_type": "execute_result"
    }
   ],
   "source": [
    "class Char_Index:\n",
    "    def __init__(self, urls) -> None:\n",
    "        self.char_index = {}\n",
    "        self.index_char = {}\n",
    "        for url in urls:\n",
    "            for char in url:\n",
    "                if char not in self.char_index:\n",
    "                    self.char_index[char] = len(self.char_index)\n",
    "                    self.index_char[len(self.index_char)] = char\n",
    "    \n",
    "    def string_indexes(self, string):\n",
    "        return [self.char_index[char] for char in string]\n",
    "\n",
    "char_index = Char_Index(dataset['url'])\n",
    "char_index.string_indexes(dataset.url[0]), len(char_index.char_index)"
   ]
  },
  {
   "cell_type": "markdown",
   "metadata": {},
   "source": [
    "# split data into train and test in ratio of 80:20"
   ]
  },
  {
   "cell_type": "code",
   "execution_count": 40,
   "metadata": {
    "execution": {
     "iopub.execute_input": "2023-03-30T17:00:55.772084Z",
     "iopub.status.busy": "2023-03-30T17:00:55.771722Z",
     "iopub.status.idle": "2023-03-30T17:00:55.790070Z",
     "shell.execute_reply": "2023-03-30T17:00:55.788990Z",
     "shell.execute_reply.started": "2023-03-30T17:00:55.772052Z"
    }
   },
   "outputs": [],
   "source": [
    "# shuffle data\n",
    "dataset = dataset.sample(frac=1).reset_index(drop=True)\n",
    "\n",
    "\n",
    "train_data = dataset[:int(len(dataset)*0.8)]\n",
    "test_data = dataset[int(len(dataset)*0.8):].reset_index(drop=True)"
   ]
  },
  {
   "cell_type": "code",
   "execution_count": 41,
   "metadata": {
    "execution": {
     "iopub.execute_input": "2023-03-30T17:01:01.400462Z",
     "iopub.status.busy": "2023-03-30T17:01:01.400056Z",
     "iopub.status.idle": "2023-03-30T17:01:01.419081Z",
     "shell.execute_reply": "2023-03-30T17:01:01.417875Z",
     "shell.execute_reply.started": "2023-03-30T17:01:01.400425Z"
    }
   },
   "outputs": [
    {
     "data": {
      "text/plain": [
       "(44000, 11000)"
      ]
     },
     "execution_count": 41,
     "metadata": {},
     "output_type": "execute_result"
    }
   ],
   "source": [
    "class Dataset(torch.utils.data.Dataset):\n",
    "    def __init__(self, df, char_index: Char_Index, label_index: Label_Index) -> None:\n",
    "        self.df = df\n",
    "        self.char_index = char_index\n",
    "        self.label_index = label_index\n",
    "\n",
    "    def __len__(self):\n",
    "        return len(self.df)\n",
    "\n",
    "    def __getitem__(self, index):\n",
    "        url = self.df.url[index]\n",
    "        label = self.label_index(self.df.type[index])\n",
    "        return torch.tensor(self.char_index.string_indexes(url)), torch.tensor(label)\n",
    "\n",
    "trainDataset = Dataset(train_data, char_index, label_index)\n",
    "testDataset = Dataset(test_data, char_index, label_index)\n",
    "len(trainDataset), len(testDataset)"
   ]
  },
  {
   "cell_type": "markdown",
   "metadata": {},
   "source": [
    "# function to pad the tensors to make them equal length and generate batch for training"
   ]
  },
  {
   "cell_type": "code",
   "execution_count": 42,
   "metadata": {
    "execution": {
     "iopub.execute_input": "2023-03-30T17:01:04.634697Z",
     "iopub.status.busy": "2023-03-30T17:01:04.633586Z",
     "iopub.status.idle": "2023-03-30T17:01:04.839726Z",
     "shell.execute_reply": "2023-03-30T17:01:04.838375Z",
     "shell.execute_reply.started": "2023-03-30T17:01:04.634656Z"
    }
   },
   "outputs": [
    {
     "name": "stdout",
     "output_type": "stream",
     "text": [
      "tensor([[0, 1, 1,  ..., 0, 0, 0],\n",
      "        [0, 1, 1,  ..., 0, 0, 0],\n",
      "        [0, 1, 1,  ..., 0, 0, 0],\n",
      "        ...,\n",
      "        [0, 1, 1,  ..., 0, 0, 0],\n",
      "        [0, 1, 1,  ..., 0, 0, 0],\n",
      "        [0, 1, 1,  ..., 0, 0, 0]]) tensor([1, 1, 1, 1, 1, 1, 1, 1, 1, 1, 1, 1, 1, 1, 1, 1, 1, 1, 1, 1, 1, 1, 1, 1,\n",
      "        1, 1, 1, 1, 1, 1, 1, 1, 1, 1, 0, 1, 1, 1, 1, 1, 1, 1, 1, 1, 1, 1, 1, 1,\n",
      "        1, 1, 1, 1, 1, 1, 1, 1, 1, 0, 1, 1, 1, 1, 1, 1, 1, 1, 1, 1, 1, 1, 0, 1,\n",
      "        1, 1, 1, 1, 1, 1, 1, 1, 1, 1, 1, 1, 1, 1, 1, 1, 1, 1, 1, 1, 1, 1, 0, 1,\n",
      "        1, 1, 1, 1, 1, 1, 1, 1, 1, 1, 1, 1, 1, 1, 1, 1, 1, 1, 1, 1, 1, 1, 1, 1,\n",
      "        0, 1, 0, 1, 1, 1, 1, 1, 1, 1, 1, 1, 1, 1, 1, 1, 1, 1, 1, 1, 1, 0, 1, 1,\n",
      "        1, 1, 1, 0, 1, 1, 0, 1, 1, 0, 1, 1, 0, 1, 1, 1, 1, 1, 1, 1, 1, 1, 1, 1,\n",
      "        1, 1, 1, 1, 1, 1, 1, 0, 1, 1, 1, 1, 1, 1, 1, 1, 1, 1, 1, 1, 1, 1, 1, 1,\n",
      "        1, 1, 1, 1, 1, 1, 1, 1, 1, 0, 1, 1, 1, 1, 1, 1, 1, 1, 1, 1, 1, 1, 1, 1,\n",
      "        0, 1, 1, 1, 1, 1, 1, 1, 1, 0, 1, 1, 1, 1, 1, 1, 1, 1, 1, 1, 1, 1, 1, 1,\n",
      "        1, 1, 1, 1, 1, 1, 1, 1, 0, 1, 1, 0, 1, 1, 1, 1])\n"
     ]
    }
   ],
   "source": [
    "def collate_fn(batch):\n",
    "    urls, labels = zip(*batch)\n",
    "    urls = nn.utils.rnn.pad_sequence(urls, batch_first=True)\n",
    "    return urls, torch.tensor(labels)\n",
    "\n",
    "trainGenerator = torch.utils.data.DataLoader(trainDataset, batch_size=256, shuffle=True, collate_fn=collate_fn, num_workers = 2)\n",
    "testGenerator = torch.utils.data.DataLoader(testDataset, batch_size=256, shuffle=True, collate_fn=collate_fn, num_workers = 2)\n",
    "for inputs, labels in trainGenerator:\n",
    "    print(inputs, labels)\n",
    "    break"
   ]
  },
  {
   "cell_type": "markdown",
   "metadata": {},
   "source": [
    "# implementation of GRU and forward pass"
   ]
  },
  {
   "cell_type": "code",
   "execution_count": 45,
   "metadata": {
    "execution": {
     "iopub.execute_input": "2023-03-30T17:01:24.158145Z",
     "iopub.status.busy": "2023-03-30T17:01:24.157760Z",
     "iopub.status.idle": "2023-03-30T17:01:24.730844Z",
     "shell.execute_reply": "2023-03-30T17:01:24.728881Z",
     "shell.execute_reply.started": "2023-03-30T17:01:24.158114Z"
    }
   },
   "outputs": [
    {
     "name": "stderr",
     "output_type": "stream",
     "text": [
      "/opt/conda/lib/python3.7/site-packages/torch/nn/modules/rnn.py:65: UserWarning: dropout option adds dropout after all but last recurrent layer, so non-zero dropout expects num_layers greater than 1, but got dropout=0.2 and num_layers=1\n",
      "  \"num_layers={}\".format(dropout, num_layers))\n"
     ]
    },
    {
     "data": {
      "text/plain": [
       "tensor([[ 0.0660, -0.3531],\n",
       "        [ 0.0638, -0.3536],\n",
       "        [ 0.0644, -0.3531],\n",
       "        [ 0.0646, -0.3539],\n",
       "        [ 0.0655, -0.3529],\n",
       "        [ 0.0638, -0.3537],\n",
       "        [ 0.0647, -0.3530],\n",
       "        [ 0.0643, -0.3534],\n",
       "        [ 0.0643, -0.3534],\n",
       "        [ 0.0641, -0.3532],\n",
       "        [ 0.0649, -0.3528],\n",
       "        [ 0.0654, -0.3532],\n",
       "        [ 0.0648, -0.3533],\n",
       "        [ 0.0657, -0.3536],\n",
       "        [ 0.0648, -0.3535],\n",
       "        [ 0.0655, -0.3526],\n",
       "        [ 0.0649, -0.3528],\n",
       "        [ 0.0652, -0.3530],\n",
       "        [ 0.0646, -0.3537],\n",
       "        [ 0.0571, -0.3530],\n",
       "        [ 0.0646, -0.3535],\n",
       "        [ 0.0649, -0.3533],\n",
       "        [ 0.0658, -0.3529],\n",
       "        [ 0.0641, -0.3533],\n",
       "        [ 0.0640, -0.3535],\n",
       "        [ 0.0648, -0.3537],\n",
       "        [ 0.0659, -0.3532],\n",
       "        [ 0.0661, -0.3530],\n",
       "        [ 0.0635, -0.3537],\n",
       "        [ 0.0647, -0.3535],\n",
       "        [ 0.0640, -0.3533],\n",
       "        [ 0.0637, -0.3538],\n",
       "        [ 0.0649, -0.3526],\n",
       "        [ 0.0639, -0.3535],\n",
       "        [ 0.0642, -0.3447],\n",
       "        [ 0.0641, -0.3533],\n",
       "        [ 0.0647, -0.3529],\n",
       "        [ 0.0658, -0.3530],\n",
       "        [ 0.0549, -0.3523],\n",
       "        [ 0.0649, -0.3530],\n",
       "        [ 0.0641, -0.3534],\n",
       "        [ 0.0651, -0.3533],\n",
       "        [ 0.0641, -0.3535],\n",
       "        [ 0.0658, -0.3533],\n",
       "        [ 0.0651, -0.3534],\n",
       "        [ 0.0642, -0.3532],\n",
       "        [ 0.0648, -0.3531],\n",
       "        [ 0.0644, -0.3535],\n",
       "        [ 0.0640, -0.3540],\n",
       "        [ 0.0643, -0.3533],\n",
       "        [ 0.0640, -0.3531],\n",
       "        [ 0.0635, -0.3539],\n",
       "        [ 0.0646, -0.3536],\n",
       "        [ 0.0644, -0.3534],\n",
       "        [ 0.0643, -0.3533],\n",
       "        [ 0.0647, -0.3538],\n",
       "        [ 0.0650, -0.3529],\n",
       "        [ 0.0643, -0.3529],\n",
       "        [ 0.0649, -0.3539],\n",
       "        [ 0.0644, -0.3528],\n",
       "        [ 0.0653, -0.3533],\n",
       "        [ 0.0651, -0.3532],\n",
       "        [ 0.0647, -0.3533],\n",
       "        [ 0.0638, -0.3533],\n",
       "        [ 0.0657, -0.3527],\n",
       "        [ 0.0645, -0.3529],\n",
       "        [ 0.0640, -0.3532],\n",
       "        [ 0.0645, -0.3531],\n",
       "        [ 0.0643, -0.3534],\n",
       "        [ 0.0650, -0.3538],\n",
       "        [ 0.0666, -0.3527],\n",
       "        [ 0.0649, -0.3534],\n",
       "        [ 0.0645, -0.3534],\n",
       "        [ 0.0646, -0.3534],\n",
       "        [ 0.0658, -0.3531],\n",
       "        [ 0.0650, -0.3534],\n",
       "        [ 0.0641, -0.3532],\n",
       "        [ 0.0652, -0.3527],\n",
       "        [ 0.0646, -0.3535],\n",
       "        [ 0.0641, -0.3535],\n",
       "        [ 0.0638, -0.3537],\n",
       "        [ 0.0639, -0.3530],\n",
       "        [-0.0044,  0.3307],\n",
       "        [ 0.0639, -0.3529],\n",
       "        [ 0.0648, -0.3530],\n",
       "        [ 0.0651, -0.3535],\n",
       "        [ 0.0641, -0.3534],\n",
       "        [ 0.0646, -0.3534],\n",
       "        [ 0.0645, -0.3533],\n",
       "        [ 0.0637, -0.3536],\n",
       "        [ 0.0650, -0.3534],\n",
       "        [ 0.0645, -0.3531],\n",
       "        [ 0.0658, -0.3529],\n",
       "        [ 0.0648, -0.3500],\n",
       "        [ 0.0519, -0.3571],\n",
       "        [ 0.0593, -0.3483],\n",
       "        [ 0.0646, -0.3535],\n",
       "        [ 0.0615, -0.3497],\n",
       "        [ 0.0645, -0.3535],\n",
       "        [ 0.0657, -0.3535],\n",
       "        [ 0.0647, -0.3531],\n",
       "        [ 0.0654, -0.3528],\n",
       "        [ 0.0650, -0.3532],\n",
       "        [ 0.0641, -0.3530],\n",
       "        [ 0.0659, -0.3531],\n",
       "        [ 0.0654, -0.3530],\n",
       "        [ 0.0655, -0.3533],\n",
       "        [ 0.0652, -0.3533],\n",
       "        [ 0.0636, -0.3501],\n",
       "        [ 0.0642, -0.3529],\n",
       "        [ 0.0645, -0.3531],\n",
       "        [ 0.0648, -0.3529],\n",
       "        [ 0.0642, -0.3532],\n",
       "        [ 0.0642, -0.3533],\n",
       "        [ 0.0655, -0.3533],\n",
       "        [ 0.0658, -0.3529],\n",
       "        [ 0.0651, -0.3526],\n",
       "        [ 0.0641, -0.3535],\n",
       "        [ 0.0578, -0.3524],\n",
       "        [ 0.0647, -0.3533],\n",
       "        [ 0.0537, -0.3541],\n",
       "        [ 0.0645, -0.3532],\n",
       "        [ 0.0484, -0.3532],\n",
       "        [ 0.0654, -0.3535],\n",
       "        [ 0.0647, -0.3536],\n",
       "        [ 0.0575, -0.3532],\n",
       "        [ 0.0655, -0.3536],\n",
       "        [ 0.0642, -0.3534],\n",
       "        [ 0.0652, -0.3533],\n",
       "        [ 0.0641, -0.3530],\n",
       "        [ 0.0647, -0.3534],\n",
       "        [ 0.0628, -0.3512],\n",
       "        [ 0.0647, -0.3536],\n",
       "        [ 0.0641, -0.3533],\n",
       "        [ 0.0642, -0.3532],\n",
       "        [ 0.0647, -0.3534],\n",
       "        [ 0.0550, -0.3536],\n",
       "        [ 0.0643, -0.3532],\n",
       "        [ 0.0644, -0.3535],\n",
       "        [ 0.0647, -0.3537],\n",
       "        [ 0.0649, -0.3527],\n",
       "        [ 0.0603, -0.3547],\n",
       "        [ 0.0642, -0.3532],\n",
       "        [ 0.0654, -0.3535],\n",
       "        [ 0.0644, -0.3529],\n",
       "        [ 0.0646, -0.3526],\n",
       "        [ 0.0570, -0.3530],\n",
       "        [ 0.0584, -0.3529],\n",
       "        [ 0.0638, -0.3534],\n",
       "        [ 0.0655, -0.3534],\n",
       "        [ 0.0629, -0.3504],\n",
       "        [ 0.0638, -0.3534],\n",
       "        [ 0.0639, -0.3535],\n",
       "        [ 0.0546, -0.3517],\n",
       "        [ 0.0640, -0.3535],\n",
       "        [ 0.0643, -0.3533],\n",
       "        [ 0.0633, -0.3519],\n",
       "        [ 0.0645, -0.3529],\n",
       "        [ 0.0641, -0.3532],\n",
       "        [ 0.0655, -0.3529],\n",
       "        [ 0.0639, -0.3537],\n",
       "        [ 0.0617, -0.3542],\n",
       "        [ 0.0655, -0.3528],\n",
       "        [ 0.0642, -0.3534],\n",
       "        [ 0.0653, -0.3535],\n",
       "        [ 0.0650, -0.3534],\n",
       "        [ 0.0643, -0.3531],\n",
       "        [ 0.0649, -0.3530],\n",
       "        [ 0.0651, -0.3534],\n",
       "        [ 0.0645, -0.3533],\n",
       "        [ 0.0656, -0.3528],\n",
       "        [ 0.0643, -0.3531],\n",
       "        [ 0.0642, -0.3531],\n",
       "        [ 0.0647, -0.3537],\n",
       "        [ 0.0646, -0.3525],\n",
       "        [ 0.0652, -0.3527],\n",
       "        [ 0.0642, -0.3529],\n",
       "        [ 0.0635, -0.3538],\n",
       "        [ 0.0653, -0.3529],\n",
       "        [ 0.0638, -0.3533],\n",
       "        [ 0.0642, -0.3536],\n",
       "        [ 0.0612, -0.3506],\n",
       "        [ 0.0645, -0.3535],\n",
       "        [ 0.0640, -0.3533],\n",
       "        [ 0.0642, -0.3532],\n",
       "        [ 0.0643, -0.3535],\n",
       "        [ 0.0652, -0.3528],\n",
       "        [ 0.0647, -0.3502],\n",
       "        [ 0.0645, -0.3532],\n",
       "        [ 0.0650, -0.3534],\n",
       "        [ 0.0651, -0.3538],\n",
       "        [ 0.0659, -0.3535],\n",
       "        [ 0.0646, -0.3534],\n",
       "        [ 0.0649, -0.3537],\n",
       "        [ 0.0642, -0.3534],\n",
       "        [ 0.0574, -0.3532],\n",
       "        [ 0.0656, -0.3532],\n",
       "        [ 0.0652, -0.3531],\n",
       "        [ 0.0646, -0.3533],\n",
       "        [ 0.0643, -0.3534],\n",
       "        [ 0.0647, -0.3535],\n",
       "        [ 0.0585, -0.3530],\n",
       "        [ 0.0646, -0.3532],\n",
       "        [ 0.0649, -0.3533],\n",
       "        [ 0.0645, -0.3533],\n",
       "        [ 0.0640, -0.3535],\n",
       "        [ 0.0645, -0.3528],\n",
       "        [ 0.0643, -0.3535],\n",
       "        [ 0.0642, -0.3537],\n",
       "        [ 0.0645, -0.3530],\n",
       "        [ 0.0637, -0.3540],\n",
       "        [ 0.0650, -0.3530],\n",
       "        [ 0.0649, -0.3398],\n",
       "        [ 0.0640, -0.3534],\n",
       "        [ 0.0644, -0.3529],\n",
       "        [ 0.0640, -0.3538],\n",
       "        [ 0.0572, -0.3531],\n",
       "        [ 0.0646, -0.3533],\n",
       "        [ 0.0656, -0.3530],\n",
       "        [ 0.0646, -0.3527],\n",
       "        [ 0.0648, -0.3537],\n",
       "        [ 0.0643, -0.3532],\n",
       "        [ 0.0641, -0.3535],\n",
       "        [ 0.0656, -0.3526],\n",
       "        [ 0.0640, -0.3535],\n",
       "        [ 0.0573, -0.3535],\n",
       "        [ 0.0651, -0.3537],\n",
       "        [ 0.0648, -0.3538],\n",
       "        [ 0.0644, -0.3533],\n",
       "        [ 0.0650, -0.3536],\n",
       "        [ 0.0652, -0.3534],\n",
       "        [ 0.0649, -0.3531],\n",
       "        [ 0.0641, -0.3534],\n",
       "        [ 0.0642, -0.3534],\n",
       "        [ 0.0630, -0.3487],\n",
       "        [ 0.0647, -0.3535],\n",
       "        [ 0.0654, -0.3531],\n",
       "        [ 0.0648, -0.3536],\n",
       "        [ 0.0641, -0.3532],\n",
       "        [ 0.0638, -0.3536],\n",
       "        [ 0.0641, -0.3536],\n",
       "        [ 0.0646, -0.3532],\n",
       "        [ 0.0659, -0.3531],\n",
       "        [ 0.0652, -0.3530],\n",
       "        [ 0.0647, -0.3533],\n",
       "        [ 0.0643, -0.3534],\n",
       "        [ 0.0649, -0.3535],\n",
       "        [ 0.0652, -0.3530],\n",
       "        [ 0.0564, -0.3525],\n",
       "        [ 0.0644, -0.3537],\n",
       "        [ 0.0651, -0.3528],\n",
       "        [ 0.0638, -0.3536],\n",
       "        [ 0.0652, -0.3532],\n",
       "        [ 0.0643, -0.3535],\n",
       "        [ 0.0656, -0.3530],\n",
       "        [ 0.0660, -0.3536]], grad_fn=<AddmmBackward0>)"
      ]
     },
     "execution_count": 45,
     "metadata": {},
     "output_type": "execute_result"
    }
   ],
   "source": [
    "class GRU(nn.Module):\n",
    "    def __init__(self, vocab_size, embedding_size, hidden_size, output_size, num_layers=1, dropout=0.2, bidirectional=False):\n",
    "        super(GRU, self).__init__()\n",
    "        self.bidirectional = bidirectional\n",
    "        self.embedding = nn.Embedding(vocab_size, embedding_size)\n",
    "        self.hidden_size = hidden_size\n",
    "        self.num_layers = num_layers\n",
    "        self.gru = nn.GRU(embedding_size, hidden_size, num_layers, dropout=dropout, batch_first=True, bidirectional=bidirectional)\n",
    "        self.fc = nn.Linear(hidden_size, output_size)\n",
    "    \n",
    "    def forward(self, x):\n",
    "        x = self.embedding(x)   # [batch_size, seq_len] -> [batch_size, seq_len, embedding_size]\n",
    "        if self.bidirectional == True:\n",
    "            h0 = torch.zeros(self.num_layers*2, x.size(0), self.hidden_size).to(x.device)   # [num_layers*2, batch_size, hidden_size]\n",
    "        else:\n",
    "            h0 = torch.zeros(self.num_layers, x.size(0), self.hidden_size).to(x.device)  # [num_layers, batch_size, hidden_size]\n",
    "        out, _ = self.gru(x, h0)    # [batch_size, seq_len, hidden_size]\n",
    "        if self.bidirectional == True:\n",
    "            out = out[:, -1, :self.hidden_size] + out[:, 0, self.hidden_size:]  # [batch_size, hidden_size]\n",
    "        return self.fc(out)\n",
    "gru_model = GRU(len(char_index.char_index), 128, 128, len(label_index.labels), bidirectional=True, num_layers=1)\n",
    "gru_model(inputs)"
   ]
  },
  {
   "cell_type": "code",
   "execution_count": 46,
   "metadata": {
    "execution": {
     "iopub.execute_input": "2023-03-30T17:01:31.496128Z",
     "iopub.status.busy": "2023-03-30T17:01:31.495743Z",
     "iopub.status.idle": "2023-03-30T17:01:31.502401Z",
     "shell.execute_reply": "2023-03-30T17:01:31.501225Z",
     "shell.execute_reply.started": "2023-03-30T17:01:31.496091Z"
    }
   },
   "outputs": [],
   "source": [
    "optimizer = torch.optim.Adam(gru_model.parameters(), lr=0.001)\n",
    "loss = torch.nn.CrossEntropyLoss()\n",
    "epochs = 10"
   ]
  },
  {
   "cell_type": "markdown",
   "metadata": {},
   "source": [
    "# training for 10 epochs with binary cross entropy loss"
   ]
  },
  {
   "cell_type": "code",
   "execution_count": 47,
   "metadata": {
    "execution": {
     "iopub.execute_input": "2023-03-30T17:01:35.077819Z",
     "iopub.status.busy": "2023-03-30T17:01:35.076677Z",
     "iopub.status.idle": "2023-03-30T17:03:38.938275Z",
     "shell.execute_reply": "2023-03-30T17:03:38.936004Z",
     "shell.execute_reply.started": "2023-03-30T17:01:35.077779Z"
    }
   },
   "outputs": [
    {
     "name": "stderr",
     "output_type": "stream",
     "text": [
      "100%|██████████| 172/172 [00:11<00:00, 15.35it/s]"
     ]
    },
    {
     "name": "stdout",
     "output_type": "stream",
     "text": [
      "epoch: 1, train loss: 0.17109107923542344\n"
     ]
    },
    {
     "name": "stderr",
     "output_type": "stream",
     "text": [
      "\n"
     ]
    },
    {
     "name": "stdout",
     "output_type": "stream",
     "text": [
      "\t test loss: 0.11030160999575327, test acc: 0.9550909090909091\n",
      "save model\n"
     ]
    },
    {
     "name": "stderr",
     "output_type": "stream",
     "text": [
      "100%|██████████| 172/172 [00:10<00:00, 15.70it/s]\n"
     ]
    },
    {
     "name": "stdout",
     "output_type": "stream",
     "text": [
      "epoch: 2, train loss: 0.09288722033027647\n",
      "\t test loss: 0.0727890415420366, test acc: 0.9733636363636363\n",
      "save model\n"
     ]
    },
    {
     "name": "stderr",
     "output_type": "stream",
     "text": [
      "100%|██████████| 172/172 [00:11<00:00, 15.62it/s]"
     ]
    },
    {
     "name": "stdout",
     "output_type": "stream",
     "text": [
      "epoch: 3, train loss: 0.06387150250808445\n"
     ]
    },
    {
     "name": "stderr",
     "output_type": "stream",
     "text": [
      "\n"
     ]
    },
    {
     "name": "stdout",
     "output_type": "stream",
     "text": [
      "\t test loss: 0.07143506624324378, test acc: 0.9751818181818181\n",
      "save model\n"
     ]
    },
    {
     "name": "stderr",
     "output_type": "stream",
     "text": [
      "100%|██████████| 172/172 [00:11<00:00, 15.43it/s]"
     ]
    },
    {
     "name": "stdout",
     "output_type": "stream",
     "text": [
      "epoch: 4, train loss: 0.04870552796502273\n"
     ]
    },
    {
     "name": "stderr",
     "output_type": "stream",
     "text": [
      "\n"
     ]
    },
    {
     "name": "stdout",
     "output_type": "stream",
     "text": [
      "\t test loss: 0.06045731585905995, test acc: 0.977909090909091\n",
      "save model\n"
     ]
    },
    {
     "name": "stderr",
     "output_type": "stream",
     "text": [
      "100%|██████████| 172/172 [00:11<00:00, 15.39it/s]"
     ]
    },
    {
     "name": "stdout",
     "output_type": "stream",
     "text": [
      "epoch: 5, train loss: 0.03729057630394087\n"
     ]
    },
    {
     "name": "stderr",
     "output_type": "stream",
     "text": [
      "\n"
     ]
    },
    {
     "name": "stdout",
     "output_type": "stream",
     "text": [
      "\t test loss: 0.05084578437340814, test acc: 0.9826363636363636\n",
      "save model\n"
     ]
    },
    {
     "name": "stderr",
     "output_type": "stream",
     "text": [
      "100%|██████████| 172/172 [00:11<00:00, 15.42it/s]"
     ]
    },
    {
     "name": "stdout",
     "output_type": "stream",
     "text": [
      "epoch: 6, train loss: 0.02942201602651716\n"
     ]
    },
    {
     "name": "stderr",
     "output_type": "stream",
     "text": [
      "\n"
     ]
    },
    {
     "name": "stdout",
     "output_type": "stream",
     "text": [
      "\t test loss: 0.04953553555749877, test acc: 0.9832727272727273\n",
      "save model\n"
     ]
    },
    {
     "name": "stderr",
     "output_type": "stream",
     "text": [
      "100%|██████████| 172/172 [00:11<00:00, 15.34it/s]\n"
     ]
    },
    {
     "name": "stdout",
     "output_type": "stream",
     "text": [
      "epoch: 7, train loss: 0.023449591190424248\n",
      "\t test loss: 0.05172349003598441, test acc: 0.9837272727272727\n",
      "save model\n"
     ]
    },
    {
     "name": "stderr",
     "output_type": "stream",
     "text": [
      "100%|██████████| 172/172 [00:10<00:00, 15.76it/s]"
     ]
    },
    {
     "name": "stdout",
     "output_type": "stream",
     "text": [
      "epoch: 8, train loss: 0.01736031415964325\n"
     ]
    },
    {
     "name": "stderr",
     "output_type": "stream",
     "text": [
      "\n"
     ]
    },
    {
     "name": "stdout",
     "output_type": "stream",
     "text": [
      "\t test loss: 0.05703064751659715, test acc: 0.9825454545454545\n"
     ]
    },
    {
     "name": "stderr",
     "output_type": "stream",
     "text": [
      "100%|██████████| 172/172 [00:11<00:00, 14.87it/s]"
     ]
    },
    {
     "name": "stdout",
     "output_type": "stream",
     "text": [
      "epoch: 9, train loss: 0.01330723195048428\n"
     ]
    },
    {
     "name": "stderr",
     "output_type": "stream",
     "text": [
      "\n"
     ]
    },
    {
     "name": "stdout",
     "output_type": "stream",
     "text": [
      "\t test loss: 0.06317677106275114, test acc: 0.982\n"
     ]
    },
    {
     "name": "stderr",
     "output_type": "stream",
     "text": [
      "100%|██████████| 172/172 [00:10<00:00, 15.84it/s]"
     ]
    },
    {
     "name": "stdout",
     "output_type": "stream",
     "text": [
      "epoch: 10, train loss: 0.010193069962423218\n"
     ]
    },
    {
     "name": "stderr",
     "output_type": "stream",
     "text": [
      "\n"
     ]
    },
    {
     "name": "stdout",
     "output_type": "stream",
     "text": [
      "\t test loss: 0.06717484483365403, test acc: 0.9830909090909091\n"
     ]
    }
   ],
   "source": [
    "best_right = 0\n",
    "early_stop = 0\n",
    "gru_model.to('cuda')\n",
    "for epoch in range(epochs):\n",
    "    loss_value = 0.0\n",
    "    gru_model.train()\n",
    "    for inputs, label in tqdm(trainGenerator):\n",
    "        inputs = inputs.cuda()\n",
    "        label = label.cuda()\n",
    "        optimizer.zero_grad()\n",
    "        output = gru_model(inputs)\n",
    "        l = loss(output, label)\n",
    "        l.backward()\n",
    "        loss_value += l.item()\n",
    "        optimizer.step()\n",
    "    print(f'epoch: {epoch+1}, train loss: {loss_value/len(trainGenerator)}')\n",
    "\n",
    "    # eval\n",
    "    gru_model.cuda()\n",
    "    gru_model.eval()\n",
    "    loss_value = 0.0\n",
    "    right_num = 0\n",
    "    for inputs, label in testGenerator:\n",
    "        inputs = inputs.cuda()\n",
    "        label = label.cuda()\n",
    "        output = gru_model(inputs)\n",
    "        l = loss(output, label)\n",
    "        loss_value += l.item()\n",
    "        right_num += (torch.argmax(output, dim=1) == label).sum().item()\n",
    "    print(f'\\t test loss: {loss_value/len(testGenerator)}, test acc: {right_num/len(testDataset)}')\n",
    "    \n",
    "    # save model or early stop\n",
    "    if right_num > best_right:\n",
    "        best_right = right_num\n",
    "        torch.save(gru_model.state_dict(), './gru_model.pth')\n",
    "        print('save model')\n",
    "        early_stop = 0\n",
    "    else:\n",
    "        early_stop += 1\n",
    "        if early_stop > 3:\n",
    "            print('early stop')\n",
    "            break"
   ]
  },
  {
   "cell_type": "code",
   "execution_count": null,
   "metadata": {},
   "outputs": [],
   "source": []
  }
 ],
 "metadata": {
  "kernelspec": {
   "display_name": "Python 3 (ipykernel)",
   "language": "python",
   "name": "python3"
  },
  "language_info": {
   "codemirror_mode": {
    "name": "ipython",
    "version": 3
   },
   "file_extension": ".py",
   "mimetype": "text/x-python",
   "name": "python",
   "nbconvert_exporter": "python",
   "pygments_lexer": "ipython3",
   "version": "3.9.13"
  }
 },
 "nbformat": 4,
 "nbformat_minor": 4
}
